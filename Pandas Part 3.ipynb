{
 "cells": [
  {
   "cell_type": "markdown",
   "metadata": {},
   "source": [
    "# Ekspor Dataframe"
   ]
  },
  {
   "cell_type": "code",
   "execution_count": 1,
   "metadata": {},
   "outputs": [
    {
     "name": "stdout",
     "output_type": "stream",
     "text": [
      "[[ 1 32]\n",
      " [ 2 43]\n",
      " [ 4 55]]\n"
     ]
    }
   ],
   "source": [
    "#import pandas dan numpy\n",
    "import pandas as pd\n",
    "import numpy as np\n",
    "#Misal kita punya suatu dataframe\n",
    "data = [[1,32],[2,43],[4,55]]\n",
    "df = pd.DataFrame(data,columns=['Nama','Usia'])\n",
    "#Convert ke numpy array\n",
    "databaru = df.to_numpy()\n",
    "print(databaru)\n",
    "#Convert ke txt\n",
    "df.to_csv(\"dataexport.txt\")\n",
    "#Convert ke csv\n",
    "df.to_csv(\"dataexport.csv\")\n",
    "#Convert ke xlsx\n",
    "writer = pd.ExcelWriter('dataexport.xlsx')\n",
    "df.to_excel(writer, 'DataFrame')\n",
    "writer.save()"
   ]
  }
 ],
 "metadata": {
  "kernelspec": {
   "display_name": "Python 3",
   "language": "python",
   "name": "python3"
  },
  "language_info": {
   "codemirror_mode": {
    "name": "ipython",
    "version": 3
   },
   "file_extension": ".py",
   "mimetype": "text/x-python",
   "name": "python",
   "nbconvert_exporter": "python",
   "pygments_lexer": "ipython3",
   "version": "3.7.4"
  }
 },
 "nbformat": 4,
 "nbformat_minor": 2
}
