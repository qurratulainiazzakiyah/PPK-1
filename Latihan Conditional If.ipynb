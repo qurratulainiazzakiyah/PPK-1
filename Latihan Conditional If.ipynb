{
 "cells": [
  {
   "cell_type": "markdown",
   "id": "0d4526f3",
   "metadata": {},
   "source": [
    "# Tugas Conditional If"
   ]
  },
  {
   "cell_type": "markdown",
   "id": "3ca1aae6",
   "metadata": {},
   "source": [
    "1 Buatlah program untuk menginputkan dua buah bilangan bulat, kemudian mencetak salah satu bilangan yang nilainya terbesar!"
   ]
  },
  {
   "cell_type": "code",
   "execution_count": 1,
   "id": "7d17f1e8",
   "metadata": {},
   "outputs": [
    {
     "name": "stdout",
     "output_type": "stream",
     "text": [
      "Menentukan nilai maksimum dari dua bilangan\n",
      "Memasukkan bilangan pertama :99\n",
      "Masukkan bilangan yang kedua :33\n",
      "Nilai yang terbesar 99\n"
     ]
    }
   ],
   "source": [
    "print('Menentukan nilai maksimum dari dua bilangan')\n",
    "a = int(input(\"Memasukkan bilangan pertama :\"))\n",
    "b = int(input(\"Masukkan bilangan yang kedua :\"))\n",
    "if a > b :\n",
    "    maks = a\n",
    "else :\n",
    "    maks = b\n",
    "print ('Nilai yang terbesar %d' % maks)"
   ]
  },
  {
   "cell_type": "markdown",
   "id": "53a3ea7c",
   "metadata": {},
   "source": [
    "2. Pada akhir semester seorang dosen menghitung nilai akhir dari mahasiswa yang terdiri dari nilai uas, uts, kuis, dan tugas. Nilai akhir didapatkan dari 40% nilai uas, 30% nilai uts, 10% nilai kuis, dan 20% nilai tugas. Jika nilai akhir dari mahasiswa di bawah 65 maka mahasiswa tersebut akan mendapatkan remidi. Buatlah program untuk membantu mengetahui mahasiswa yang mendapatkan remidi berdasarkan nilai akhir yang didapatkannya!"
   ]
  },
  {
   "cell_type": "code",
   "execution_count": 2,
   "id": "ec9abd72",
   "metadata": {},
   "outputs": [
    {
     "name": "stdout",
     "output_type": "stream",
     "text": [
      "Masukkan nilai UAS :78\n",
      "Masukkan nilai UTS :80\n",
      "Masukkan nilai KUIS :82\n",
      "Masukkan nilai TUGAS :85\n",
      "Selamat nilai anda dinyatakan lolos dan tidak remidi\n"
     ]
    }
   ],
   "source": [
    "UAS=float(input(\"Masukkan nilai UAS :\"))\n",
    "UTS=float(input(\"Masukkan nilai UTS :\"))\n",
    "KUIS=float(input(\"Masukkan nilai KUIS :\"))\n",
    "TUGAS=float(input(\"Masukkan nilai TUGAS :\"))\n",
    "\n",
    "nilai_akhir=(UAS*0.4)+(UTS*0.3)+(KUIS*0.1)+(TUGAS*0.2)\n",
    "\n",
    "if nilai_akhir >=65 :\n",
    "    print(\"Selamat nilai anda dinyatakan lolos dan tidak remidi\")\n",
    "else :\n",
    "    print(\"Maaf anda harus ujian ulang/Remidi\")"
   ]
  },
  {
   "cell_type": "code",
   "execution_count": 3,
   "id": "0f6a864d",
   "metadata": {},
   "outputs": [
    {
     "name": "stdout",
     "output_type": "stream",
     "text": [
      "Masukkan nilai UAS :55\n",
      "Masukkan nilai UTS :60\n",
      "Masukkan nilai KUIS :70\n",
      "Masukkan nilai TUGAS :72\n",
      "Maaf anda harus ujian ulang/Remidi\n"
     ]
    }
   ],
   "source": [
    "UAS=float(input(\"Masukkan nilai UAS :\"))\n",
    "UTS=float(input(\"Masukkan nilai UTS :\"))\n",
    "KUIS=float(input(\"Masukkan nilai KUIS :\"))\n",
    "TUGAS=float(input(\"Masukkan nilai TUGAS :\"))\n",
    "\n",
    "nilai_akhir=(UAS*0.4)+(UTS*0.3)+(KUIS*0.1)+(TUGAS*0.2)\n",
    "\n",
    "if nilai_akhir >=65 :\n",
    "    print(\"Selamat nilai anda dinyatakan lolos dan tidak remidi\")\n",
    "else :\n",
    "    print(\"Maaf anda harus ujian ulang/Remidi\")"
   ]
  },
  {
   "cell_type": "markdown",
   "id": "c89da02e",
   "metadata": {},
   "source": [
    "3. Buatlah program kalkulator sederhana menggunakan Python. User akan memasukkan dua buah bilangan riil dan satu buah operator aritmatika \n",
    "(+, -, *, atau /),\n",
    "kemudian program akan mengoperasikan dua bilangan tersebut dengan operator yang sesuai. Contoh tampilan program:\n"
   ]
  },
  {
   "cell_type": "code",
   "execution_count": 4,
   "id": "e6906f40",
   "metadata": {},
   "outputs": [
    {
     "name": "stdout",
     "output_type": "stream",
     "text": [
      "Pilih operasi matematika yang akan digunakan :\n",
      "1. Perkalian\n",
      "2. Pembagian\n",
      "3. Penjumlahan\n",
      "4. Pengurangan\n",
      "Pilih operasi matematika berikut (1/2/3/4):1\n",
      "Masukkan bilangan pertama :9\n",
      "Masukkan bilangan kedua :8\n",
      "9 * 8 = 72\n"
     ]
    }
   ],
   "source": [
    "def multiply (x, y) :\n",
    "    return x*y\n",
    "\n",
    "def devide (x, y) :\n",
    "    return x/y\n",
    "\n",
    "def add (x, y) :\n",
    "    return x+y\n",
    "\n",
    "def subtract (x, y) :\n",
    "    return x-y\n",
    "\n",
    "print (\"Pilih operasi matematika yang akan digunakan :\")\n",
    "print (\"1. Perkalian\")\n",
    "print (\"2. Pembagian\")\n",
    "print (\"3. Penjumlahan\")\n",
    "print (\"4. Pengurangan\")\n",
    "\n",
    "choice = input(\"Pilih operasi matematika berikut (1/2/3/4):\")\n",
    "num1 = int(input(\"Masukkan bilangan pertama :\"))\n",
    "num2 = int(input(\"Masukkan bilangan kedua :\"))\n",
    "\n",
    "if choice == '1' :\n",
    "    print(num1,\"*\",num2,\"=\", multiply(num1,num2))\n",
    "elif choice == '2' :\n",
    "    print(num1,\"/\",num2,\"=\", devide(num1,num2))\n",
    "elif choice == '3' :\n",
    "    print(num1,\"+\",num2,\"=\", add(num1,num2))\n",
    "elif choice == '4' :\n",
    "    print(num1,\"-\",num2,\"=\", subtract(num1,num2))\n",
    "else :\n",
    "    print(\"input salah\")"
   ]
  },
  {
   "cell_type": "code",
   "execution_count": null,
   "id": "652ad07d",
   "metadata": {},
   "outputs": [],
   "source": []
  }
 ],
 "metadata": {
  "kernelspec": {
   "display_name": "Python 3 (ipykernel)",
   "language": "python",
   "name": "python3"
  },
  "language_info": {
   "codemirror_mode": {
    "name": "ipython",
    "version": 3
   },
   "file_extension": ".py",
   "mimetype": "text/x-python",
   "name": "python",
   "nbconvert_exporter": "python",
   "pygments_lexer": "ipython3",
   "version": "3.10.2"
  }
 },
 "nbformat": 4,
 "nbformat_minor": 5
}
