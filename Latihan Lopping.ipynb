{
 "cells": [
  {
   "cell_type": "markdown",
   "id": "dce92098",
   "metadata": {},
   "source": [
    "# Tugas Lopping "
   ]
  },
  {
   "cell_type": "markdown",
   "id": "344fafc8",
   "metadata": {},
   "source": [
    "#### 1. Buatlah program yang meminta masukan user sebuah bilangan bulat N dimana (N > 0). Program kemudian menampilkan penjumlahan N bilangan genap positif pertama (bilangan genap ≥ 0). Contoh:¶\n",
    "##### • Jika user memasukkan N = 3, maka outputnya: 0 + 2 + 4 = 6\n",
    "##### • Jika user memasukkan N = 5, maka outputnya: 0 + 2 + 4 + 6 + 8 = 20"
   ]
  },
  {
   "cell_type": "code",
   "execution_count": 1,
   "id": "ce3369e3",
   "metadata": {},
   "outputs": [
    {
     "name": "stdout",
     "output_type": "stream",
     "text": [
      "Menghitung Jumlah N Bilangan Genap Positif Pertama\n",
      "Masukkan Nilai N :3\n",
      "Masukkan Nilai N : 3\n",
      "Bilangan Genap Positif Ke - 1  : 0\n",
      "Bilangan Genap Positif Ke - 2  : 2\n",
      "Bilangan Genap Positif Ke - 3  : 4\n",
      "\n",
      "Jumlah bilangan genap positif dari 3 bilangan diatas adalah 6\n",
      "\n",
      "ingin coba lagi ? (ya/tidak)\n",
      "ya\n",
      "Masukkan Nilai N :5\n",
      "Masukkan Nilai N : 5\n",
      "Bilangan Genap Positif Ke - 1  : 0\n",
      "Bilangan Genap Positif Ke - 2  : 2\n",
      "Bilangan Genap Positif Ke - 3  : 4\n",
      "Bilangan Genap Positif Ke - 4  : 6\n",
      "Bilangan Genap Positif Ke - 5  : 8\n",
      "\n",
      "Jumlah bilangan genap positif dari 5 bilangan diatas adalah 20\n",
      "\n",
      "ingin coba lagi ? (ya/tidak)\n",
      "tidak\n",
      "Terimakasih, see you next time  !\n"
     ]
    }
   ],
   "source": [
    "print('Menghitung Jumlah N Bilangan Genap Positif Pertama')\n",
    "\n",
    "def pengulangan():\n",
    "    N = int(input('Masukkan Nilai N :'))\n",
    "    print('Masukkan Nilai N :',N)\n",
    "    count = 0\n",
    "    sum = 0\n",
    "    for i in range (0,N*2,2):\n",
    "        if i % 2 == 0:\n",
    "            count = count + 1\n",
    "            sum = sum + i\n",
    "            print('Bilangan Genap Positif Ke -',count, ' :',i)\n",
    "    print()       \n",
    "    print('Jumlah bilangan genap positif dari',N,'bilangan diatas adalah',sum)\n",
    "    \n",
    "    print ('')\n",
    "    print ('ingin coba lagi ? (ya/tidak)')\n",
    "    x=input()\n",
    "    if x=='ya':\n",
    "        return pengulangan()\n",
    "    if x=='tidak':\n",
    "        print('Terimakasih, see you next time  !')\n",
    "        \n",
    "pengulangan()"
   ]
  },
  {
   "cell_type": "markdown",
   "id": "44453724",
   "metadata": {},
   "source": [
    "#### 2. Buatlah sebuah program yang meminta masukan user sebuah bilangan bulat N dimana (N > 0). Kemudian, program menampilkan penjumlahan N bilangan kuadrat pertama. Bilangan kuadrat adalah = 1, 4, 9, 16, 25, 36, ...., N2 Contoh:\n",
    "###### • Jika user memasukkan N = 2, maka outputnya: 1 + 4 = 5¶\n",
    "##### • Jika user memasukkan N = 3, maka outputnya: 1 + 4 + 9 = 14"
   ]
  },
  {
   "cell_type": "code",
   "execution_count": 2,
   "id": "71029ab0",
   "metadata": {},
   "outputs": [
    {
     "name": "stdout",
     "output_type": "stream",
     "text": [
      "Masukkan julah data :2\n",
      "Bilangan kuadrat ke - 1 : 1\n",
      "Bilangan kuadrat ke - 2 : 4\n",
      "jumlah bilangan kuadrat pertama = 5\n",
      "Ingin memasukkan nilai lagi ? (ya/tidak)\n",
      "ya\n",
      "Masukkan julah data :3\n",
      "Bilangan kuadrat ke - 1 : 1\n",
      "Bilangan kuadrat ke - 2 : 4\n",
      "Bilangan kuadrat ke - 3 : 9\n",
      "jumlah bilangan kuadrat pertama = 14\n",
      "Ingin memasukkan nilai lagi ? (ya/tidak)\n",
      "tidak\n",
      "Terimakasih\n"
     ]
    }
   ],
   "source": [
    "def jkp() :\n",
    "    a = int(input('Masukkan julah data :'))\n",
    "    b = 0\n",
    "    s = 0\n",
    "    for i in range (1,a+1) :\n",
    "        if i > 0 :\n",
    "            b = b + 1\n",
    "            s = s + i*i\n",
    "            print ('Bilangan kuadrat ke -',b,':',i*i)\n",
    "        \n",
    "    print ('jumlah bilangan kuadrat pertama =',s)\n",
    "        \n",
    "    print('Ingin memasukkan nilai lagi ? (ya/tidak)')\n",
    "    z=input()\n",
    "    if z =='ya':\n",
    "        return jkp()\n",
    "    if z=='tidak' :\n",
    "        print ('Terimakasih')\n",
    "            \n",
    "jkp()"
   ]
  },
  {
   "cell_type": "markdown",
   "id": "4c58e029",
   "metadata": {},
   "source": [
    "#### 3. Buatlah sebuah program yang meminta masukan user sebuah bilangan bulat N dimana (N > 0). Program kemudian memeriksa setiap digit yang ada di angka tersebut, dan menampilkan berapa jumlah digit yang ganjil dari bilangan N tersebut.\n",
    "##### • Jika user memasukkan N = 2345, jumlah digit yang ganjil = 2\n",
    "##### • Jika user memasukkan N = 993312, jumlah digit yang ganjil = 5"
   ]
  },
  {
   "cell_type": "code",
   "execution_count": 3,
   "id": "a316b2ff",
   "metadata": {},
   "outputs": [
    {
     "name": "stdout",
     "output_type": "stream",
     "text": [
      "Menampilkan Berapa Jumlah Digit yang Ganjil dari Bilangan N\n",
      "Masukkan Nilai N :2345\n",
      "Masukkan Nilai N : 2345\n",
      "\n",
      "Jumlah digit yang ganjil dari 2345 adalah 2\n",
      "\n",
      "ingin coba lagi ? (ya/tidak)\n",
      "ya\n",
      "Masukkan Nilai N :339912\n",
      "Masukkan Nilai N : 339912\n",
      "\n",
      "Jumlah digit yang ganjil dari 339912 adalah 5\n",
      "\n",
      "ingin coba lagi ? (ya/tidak)\n",
      "tidak\n",
      "Terimakasih, see you next time !\n"
     ]
    }
   ],
   "source": [
    "print('Menampilkan Berapa Jumlah Digit yang Ganjil dari Bilangan N')\n",
    "\n",
    "def pengulangan():\n",
    "    N = (input('Masukkan Nilai N :'))\n",
    "    print('Masukkan Nilai N :',N)\n",
    "    count = 0\n",
    "    Ganjil = ''\n",
    "    for i in N:\n",
    "        if i in '13579':\n",
    "            count += 1\n",
    "            Ganjil = Ganjil+i+''\n",
    "    print()\n",
    "    print('Jumlah digit yang ganjil dari',N,'adalah ' + str(count))\n",
    "    \n",
    "    print ('')\n",
    "    print ('ingin coba lagi ? (ya/tidak)')\n",
    "    x=input()\n",
    "    if x=='ya':\n",
    "        return pengulangan()\n",
    "    if x=='tidak':\n",
    "        print('Terimakasih, see you next time !')\n",
    "        \n",
    "pengulangan()"
   ]
  },
  {
   "cell_type": "code",
   "execution_count": null,
   "id": "1ec07bfe",
   "metadata": {},
   "outputs": [],
   "source": []
  }
 ],
 "metadata": {
  "kernelspec": {
   "display_name": "Python 3 (ipykernel)",
   "language": "python",
   "name": "python3"
  },
  "language_info": {
   "codemirror_mode": {
    "name": "ipython",
    "version": 3
   },
   "file_extension": ".py",
   "mimetype": "text/x-python",
   "name": "python",
   "nbconvert_exporter": "python",
   "pygments_lexer": "ipython3",
   "version": "3.10.2"
  }
 },
 "nbformat": 4,
 "nbformat_minor": 5
}
