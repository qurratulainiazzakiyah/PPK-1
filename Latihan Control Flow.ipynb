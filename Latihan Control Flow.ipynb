{
 "cells": [
  {
   "cell_type": "markdown",
   "id": "3f8a96b4",
   "metadata": {},
   "source": [
    "# 1. Faktor Bilangan"
   ]
  },
  {
   "cell_type": "code",
   "execution_count": 38,
   "id": "b2028425",
   "metadata": {},
   "outputs": [
    {
     "name": "stdout",
     "output_type": "stream",
     "text": [
      "The factors of 24 are:\n",
      "24\n",
      "12\n",
      "8\n",
      "6\n",
      "4\n",
      "3\n",
      "2\n",
      "1\n"
     ]
    }
   ],
   "source": [
    "def print_factors(x):\n",
    "   print(\"The factors of\",x,\"are:\")\n",
    "   for i in range(x,0,-1):\n",
    "       if x % i == 0:\n",
    "           print(i)\n",
    "           i+1\n",
    "\n",
    "num = 24\n",
    "\n",
    "print_factors(num)"
   ]
  },
  {
   "cell_type": "code",
   "execution_count": 39,
   "id": "7ecc0e28",
   "metadata": {},
   "outputs": [
    {
     "name": "stdout",
     "output_type": "stream",
     "text": [
      "The factors of 9 are:\n",
      "9\n",
      "3\n",
      "1\n"
     ]
    }
   ],
   "source": [
    "def print_factors(x):\n",
    "   print(\"The factors of\",x,\"are:\")\n",
    "   for i in range(x,0,-1):\n",
    "       if x % i == 0:\n",
    "           print(i)\n",
    "           1+1\n",
    "\n",
    "num = 9\n",
    "\n",
    "print_factors(num)"
   ]
  },
  {
   "cell_type": "markdown",
   "id": "d973a74f",
   "metadata": {},
   "source": [
    "# 2. Dua Pangkat"
   ]
  },
  {
   "cell_type": "code",
   "execution_count": 6,
   "id": "ce0b7164",
   "metadata": {},
   "outputs": [
    {
     "name": "stdout",
     "output_type": "stream",
     "text": [
      "Masukkan bilangan yang akan dicek: 8\n",
      "bilangan 8 adalah 2 pangkat\n"
     ]
    }
   ],
   "source": [
    "bilangan = input(\"Masukkan bilangan yang akan dicek: \")\n",
    "bilangan = int(bilangan)\n",
    "\n",
    "hasil_bagi = bilangan\n",
    "\n",
    "while hasil_bagi % 2 == 0:\n",
    "    hasil_bagi = hasil_bagi / 2\n",
    "    \n",
    "if hasil_bagi == 1:\n",
    "    print(\"bilangan\", bilangan, \"adalah 2 pangkat\")\n",
    "  \n",
    "else:\n",
    "  print(\"bilangan\", bilangan, \"bukan 2 pangkat\")"
   ]
  },
  {
   "cell_type": "code",
   "execution_count": 7,
   "id": "fe0d8801",
   "metadata": {},
   "outputs": [
    {
     "name": "stdout",
     "output_type": "stream",
     "text": [
      "masukkan bilangan yang akan dicek: 6\n",
      "bilangan 6 bukan 2 pangkat\n"
     ]
    }
   ],
   "source": [
    "bilangan = input(\"masukkan bilangan yang akan dicek: \")\n",
    "bilangan = int(bilangan)\n",
    "\n",
    "hasil_bagi = bilangan\n",
    "\n",
    "while hasil_bagi % 2 == 0:\n",
    "    hasil_bagi = hasil_bagi / 2\n",
    "    \n",
    "if hasil_bagi == 1:\n",
    "    print(\"bilangan\", bilangan, \"adalah 2 pangkat\")\n",
    "  \n",
    "else:\n",
    "  print(\"bilangan\", bilangan, \"bukan 2 pangkat\")"
   ]
  },
  {
   "cell_type": "code",
   "execution_count": null,
   "id": "842764b2",
   "metadata": {},
   "outputs": [],
   "source": []
  }
 ],
 "metadata": {
  "kernelspec": {
   "display_name": "Python 3 (ipykernel)",
   "language": "python",
   "name": "python3"
  },
  "language_info": {
   "codemirror_mode": {
    "name": "ipython",
    "version": 3
   },
   "file_extension": ".py",
   "mimetype": "text/x-python",
   "name": "python",
   "nbconvert_exporter": "python",
   "pygments_lexer": "ipython3",
   "version": "3.10.2"
  }
 },
 "nbformat": 4,
 "nbformat_minor": 5
}
